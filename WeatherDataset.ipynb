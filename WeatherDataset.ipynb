{
  "nbformat": 4,
  "nbformat_minor": 0,
  "metadata": {
    "colab": {
      "provenance": [],
      "authorship_tag": "ABX9TyNL3hOf5hkkPVO96+aRJ1Gz",
      "include_colab_link": true
    },
    "kernelspec": {
      "name": "python3",
      "display_name": "Python 3"
    },
    "language_info": {
      "name": "python"
    }
  },
  "cells": [
    {
      "cell_type": "markdown",
      "metadata": {
        "id": "view-in-github",
        "colab_type": "text"
      },
      "source": [
        "<a href=\"https://colab.research.google.com/github/ANKVIT26/ANKVIT26/blob/main/WeatherDataset.ipynb\" target=\"_parent\"><img src=\"https://colab.research.google.com/assets/colab-badge.svg\" alt=\"Open In Colab\"/></a>"
      ]
    },
    {
      "cell_type": "code",
      "source": [
        "#22BCE9038\n",
        "#ANKIT KUMAR\n",
        "import math\n",
        "from collections import Counter\n",
        "# Function to calculate the entropy of a dataset\n",
        "def entropy(labels):\n",
        "    label_counts = Counter(labels)\n",
        "    total = len(labels)\n",
        "    entropy_value = 0.0\n",
        "    for count in label_counts.values():\n",
        "        entropy_value -= count / total * math.log2(count / total)\n",
        "    return entropy_value\n",
        "# Function to calculate the information gain\n",
        "def information_gain(data, split_attribute, target_attribute):\n",
        "    total_entropy = entropy([row[target_attribute] for row in data])\n",
        "    values = set(row[split_attribute] for row in data)\n",
        "    weighted_entropy = 0.0\n",
        "    for value in values:\n",
        "        subset = [row for row in data if row[split_attribute] == value]\n",
        "        weighted_entropy += (len(subset) / len(data)) * entropy([row[target_attribute] for row in subset])\n",
        "    return total_entropy - weighted_entropy\n",
        "# Function to build the decision tree using ID3 algorithm\n",
        "def id3(data, attributes, target_attribute):\n",
        "    labels = [row[target_attribute] for row in data]\n",
        "    # If all labels are the same, return the label\n",
        "    if len(set(labels)) == 1:\n",
        "        return labels[0]\n",
        "    # If no more attributes, return the most common label\n",
        "    if not attributes:\n",
        "        return Counter(labels).most_common(1)[0][0]\n",
        "    # Find the attribute with the highest information gain\n",
        "    gains = [(attribute, information_gain(data, attribute, target_attribute)) for attribute in attributes]\n",
        "    best_attribute = max(gains, key=lambda x: x[1])[0]\n",
        "    # Build the tree\n",
        "    tree = {best_attribute: {}}\n",
        "    remaining_attributes = [attribute for attribute in attributes if attribute != best_attribute]\n",
        "    for value in set(row[best_attribute] for row in data):\n",
        "        subset = [row for row in data if row[best_attribute] == value]\n",
        "        subtree = id3(subset, remaining_attributes, target_attribute)\n",
        "        tree[best_attribute][value] = subtree\n",
        "    return tree\n",
        "# Example Weather Dataset\n",
        "weather_data = [\n",
        "    {'Outlook': 'Sunny', 'Temperature': 'Moderate', 'Humidity': 'High', 'Wind': 'Weak', 'PlayTennis': 'No'},\n",
        "    {'Outlook': 'Sunny', 'Temperature': 'Hot', 'Humidity': 'High', 'Wind': 'Strong', 'PlayTennis': 'No'},\n",
        "    {'Outlook': 'Overcast', 'Temperature': 'Hot', 'Humidity': 'High', 'Wind': 'Weak', 'PlayTennis': 'Yes'},\n",
        "    {'Outlook': 'Rain', 'Temperature': 'Mild', 'Humidity': 'High', 'Wind': 'Weak', 'PlayTennis': 'Yes'},\n",
        "    {'Outlook': 'Rain', 'Temperature': 'Moderate', 'Humidity': 'Normal', 'Wind': 'Weak', 'PlayTennis': 'Yes'},\n",
        "    {'Outlook': 'Rain', 'Temperature': 'Cool', 'Humidity': 'Moderate', 'Wind': 'Strong', 'PlayTennis': 'No'},\n",
        "    {'Outlook': 'Overcast', 'Temperature': 'Cool', 'Humidity': 'Normal', 'Wind': 'Strong', 'PlayTennis': 'Yes'},\n",
        "    {'Outlook': 'Sunny', 'Temperature': 'Mild', 'Humidity': 'High', 'Wind': 'Weak', 'PlayTennis': 'No'},\n",
        "    {'Outlook': 'Sunny', 'Temperature': 'Cool', 'Humidity': 'Moderate', 'Wind': 'Weak', 'PlayTennis': 'Yes'},\n",
        "    {'Outlook': 'Rain', 'Temperature': 'Mild', 'Humidity': 'Normal', 'Wind': 'Weak', 'PlayTennis': 'Yes'},\n",
        "    {'Outlook': 'Sunny', 'Temperature': 'Mild', 'Humidity': 'Normal', 'Wind': 'Strong', 'PlayTennis': 'Yes'},\n",
        "    {'Outlook': 'Sunny','Temperature':'Cool','Humidity':'High','Wind':'Moderate','PlayTennis':'Yes'},\n",
        "    {'Outlook': 'Overcast', 'Temperature': 'Mild', 'Humidity': 'High', 'Wind': 'Strong', 'PlayTennis': 'Yes'},\n",
        "    {'Outlook': 'Overcast', 'Temperature': 'Hot', 'Humidity': 'Moderate', 'Wind': 'Weak', 'PlayTennis': 'Yes'},\n",
        "    {'Outlook': 'Rain', 'Temperature': 'Moderate', 'Humidity': 'High', 'Wind': 'Moderate', 'PlayTennis': 'No'}\n",
        "]\n",
        "# Building the decision tree\n",
        "attributes = ['Outlook', 'Temperature', 'Humidity','PlayTennis']\n",
        "target_attribute = 'Wind'\n",
        "decision_tree = id3(weather_data, attributes, target_attribute)\n",
        "# Output the decision tree\n",
        "import pprint\n",
        "pprint.pprint(decision_tree)"
      ],
      "metadata": {
        "colab": {
          "base_uri": "https://localhost:8080/"
        },
        "id": "R_y7qk2J2R5V",
        "outputId": "fd9c2e76-72e0-4bf5-e12a-c742421df1d5"
      },
      "execution_count": 7,
      "outputs": [
        {
          "output_type": "stream",
          "name": "stdout",
          "text": [
            "{'Temperature': {'Cool': {'Outlook': {'Overcast': 'Strong',\n",
            "                                      'Rain': 'Strong',\n",
            "                                      'Sunny': {'Humidity': {'High': 'Moderate',\n",
            "                                                             'Moderate': 'Weak'}}}},\n",
            "                 'Hot': {'Outlook': {'Overcast': 'Weak', 'Sunny': 'Strong'}},\n",
            "                 'Mild': {'Outlook': {'Overcast': 'Strong',\n",
            "                                      'Rain': 'Weak',\n",
            "                                      'Sunny': {'Humidity': {'High': 'Weak',\n",
            "                                                             'Normal': 'Strong'}}}},\n",
            "                 'Moderate': {'Outlook': {'Rain': {'Humidity': {'High': 'Moderate',\n",
            "                                                                'Normal': 'Weak'}},\n",
            "                                          'Sunny': 'Weak'}}}}\n"
          ]
        }
      ]
    }
  ]
}