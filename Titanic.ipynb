{
  "nbformat": 4,
  "nbformat_minor": 0,
  "metadata": {
    "colab": {
      "provenance": [],
      "mount_file_id": "1fXNG-uT4g1A6dyZz5ToX0qGNiHmaUoR2",
      "authorship_tag": "ABX9TyPu4SIPH4iOwiFB8/6WbKrh",
      "include_colab_link": true
    },
    "kernelspec": {
      "name": "python3",
      "display_name": "Python 3"
    },
    "language_info": {
      "name": "python"
    }
  },
  "cells": [
    {
      "cell_type": "markdown",
      "metadata": {
        "id": "view-in-github",
        "colab_type": "text"
      },
      "source": [
        "<a href=\"https://colab.research.google.com/github/ANKVIT26/ANKVIT26/blob/main/Titanic.ipynb\" target=\"_parent\"><img src=\"https://colab.research.google.com/assets/colab-badge.svg\" alt=\"Open In Colab\"/></a>"
      ]
    },
    {
      "cell_type": "markdown",
      "source": [
        "22BCE9038   Lab2\n"
      ],
      "metadata": {
        "id": "9-Z6d1nO0PYf"
      }
    },
    {
      "cell_type": "code",
      "execution_count": 6,
      "metadata": {
        "id": "ye-C9gbpxqlH"
      },
      "outputs": [],
      "source": [
        "import pandas as pd\n",
        "from sklearn.model_selection import train_test_split\n",
        "from sklearn.ensemble import RandomForestClassifier\n",
        "from sklearn.metrics import accuracy_score, confusion_matrix\n",
        "from sklearn.preprocessing import LabelEncoder, OneHotEncoder\n",
        "# Make sure the path to your CSV file is correct. If the file is in a different location,\n",
        "# adjust the path accordingly. If you haven't uploaded the file, you'll need to do that first.\n",
        "Titanic_data = pd.read_csv('/content/Titanic.csv')"
      ]
    },
    {
      "cell_type": "markdown",
      "source": [
        "#loading the dataset\n"
      ],
      "metadata": {
        "id": "JiNcxKDZ4AyY"
      }
    },
    {
      "cell_type": "markdown",
      "source": [],
      "metadata": {
        "id": "Of4IOmO40MW8"
      }
    },
    {
      "cell_type": "markdown",
      "source": [
        "handling missing values, fill NA wherever necessary\n"
      ],
      "metadata": {
        "id": "vC86Hzco4LUM"
      }
    },
    {
      "cell_type": "code",
      "source": [
        "Titanic_data['Age'].fillna(Titanic_data['Age'].median(), inplace=True)\n",
        "Titanic_data['Embarked'].fillna(Titanic_data['Embarked'].mode()[0], inplace=True)"
      ],
      "metadata": {
        "id": "xckRnyCB4UCw"
      },
      "execution_count": 8,
      "outputs": []
    },
    {
      "cell_type": "code",
      "source": [
        "#Categorically fixing data\n",
        "Titanic_data['Sex']= LabelEncoder().fit_transform (Titanic_data['Sex'])\n",
        "df=pd.read_csv('/content/Titanic.csv')\n",
        "#trial with text input\n",
        "# Handle missing values (for simplicity, fill NA with median values)\n",
        "Titanic_data['Age'].fillna(Titanic_data['Age'].median(), inplace=True) # Use Titanic_data instead of data\n",
        "Titanic_data['Embarked'].fillna(Titanic_data['Embarked'].mode()[0], inplace=True) # Use Titanic_data instead of data\n",
        "# Convert categorical variables\n",
        "Titanic_data['Sex'] = LabelEncoder().fit_transform(Titanic_data['Sex']) # Use Titanic_data instead of data\n",
        "Titanic_data = pd.get_dummies(Titanic_data, columns=['Embarked'], drop_first=True) # Use Titanic_data instead of data\n",
        "# Feature selection\n",
        "features = ['Pclass', 'Sex', 'Age', 'SibSp', 'Parch', 'Fare', 'Embarked_Q', 'Embarked_S']\n",
        "X = Titanic_data[features] # Use Titanic_data instead of data\n",
        "y = Titanic_data['Survived'] # Use Titanic_data instead of data\n",
        "# Split the dataset\n",
        "X_train, X_test, y_train, y_test = train_test_split(X, y, test_size=0.2, random_state=42)\n",
        "# Initialize the Random Forest model\n",
        "model = RandomForestClassifier(n_estimators=100, random_state=42)\n",
        "# Train the model\n",
        "model.fit(X_train, y_train)\n",
        "# Make predictions\n",
        "y_pred = model.predict(X_test)\n",
        "# Evaluate the model\n",
        "accuracy = accuracy_score(y_test, y_pred)\n",
        "conf_matrix = confusion_matrix(y_test, y_pred)\n",
        "print(f'Accuracy: {accuracy}')\n",
        "print(f'Confusion Matrix:\\n{conf_matrix}')"
      ],
      "metadata": {
        "id": "l4ka2f50-zQp",
        "colab": {
          "base_uri": "https://localhost:8080/"
        },
        "outputId": "83d370ef-bb23-4edf-a4f9-7fe0e300bf17"
      },
      "execution_count": 11,
      "outputs": [
        {
          "output_type": "stream",
          "name": "stdout",
          "text": [
            "Accuracy: 0.8100558659217877\n",
            "Confusion Matrix:\n",
            "[[90 15]\n",
            " [19 55]]\n"
          ]
        }
      ]
    }
  ]
}